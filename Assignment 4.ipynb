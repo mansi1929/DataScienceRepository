{
 "cells": [
  {
   "cell_type": "code",
   "execution_count": null,
   "id": "4dbbab31",
   "metadata": {},
   "outputs": [],
   "source": [
    "Ques 1. What exactly is []?\n",
    "Ans: The empty list , which is a list  that contains no items."
   ]
  },
  {
   "cell_type": "code",
   "execution_count": null,
   "id": "dd4332b1",
   "metadata": {},
   "outputs": [],
   "source": [
    "Q 2. In a list of values stored in a variable called spam, how would you assign the value 'Hello' as  the\n",
    "third value? (Assume [2, 4, 6, 8, 10] are in spam.)"
   ]
  },
  {
   "cell_type": "code",
   "execution_count": 1,
   "id": "fc58399b",
   "metadata": {},
   "outputs": [
    {
     "name": "stdout",
     "output_type": "stream",
     "text": [
      "[2, 4, 'hello', 8, 10]\n"
     ]
    }
   ],
   "source": [
    "spam = [2,4,6,8,10]\n",
    "spam[2] = 'hello'\n",
    "print(spam)"
   ]
  },
  {
   "cell_type": "code",
   "execution_count": null,
   "id": "0459f332",
   "metadata": {},
   "outputs": [],
   "source": [
    "#Let's pretend the spam includes the list [a,b,c,d] for the next three queries.\n",
    "\n",
    "4. What is the value of spam[-1]?\n",
    "5. What is the value of spam[:2]?"
   ]
  },
  {
   "cell_type": "code",
   "execution_count": null,
   "id": "768267d3",
   "metadata": {},
   "outputs": [],
   "source": [
    "Ques 3. What is the value of spam[int(int('3' * 2) / 11)]?\n",
    "Ans : 'd'"
   ]
  },
  {
   "cell_type": "code",
   "execution_count": 3,
   "id": "64cc7580",
   "metadata": {},
   "outputs": [],
   "source": [
    "Ques 4 : What is the value of spam[-1]?\n",
    "Ans : 'd'"
   ]
  },
  {
   "cell_type": "code",
   "execution_count": null,
   "id": "af4f3f7d",
   "metadata": {},
   "outputs": [],
   "source": [
    "Ques 5. What is the value of spam[:2]?\n",
    "Ans: ['a', 'b']"
   ]
  },
  {
   "cell_type": "code",
   "execution_count": null,
   "id": "ce89e482",
   "metadata": {},
   "outputs": [],
   "source": [
    "# Let's pretend bacon has the list [3.14,'cat', 11, 'cat', True] for the next three questions.\n",
    "Ques 6. What is the value of bacon.index('cat')?\n",
    "Ans: 1\n",
    "Ques 7. How does bacon.append(99) change the look of the list value in bacon?\n",
    "Ans :  [3.14, 'cat', 11, 'cat', True, 99]\n",
    "Ques 8. How does bacon.remove('cat') change the look of the list in bacon?\n",
    "Ans : [3.14, 11, 'cat', True, 99]"
   ]
  },
  {
   "cell_type": "code",
   "execution_count": null,
   "id": "8573ffa5",
   "metadata": {},
   "outputs": [],
   "source": [
    "#Ques 9. What are the list concatenation and list replication operators?\n",
    "Ans : List concatenation is + and list replication is *"
   ]
  },
  {
   "cell_type": "code",
   "execution_count": null,
   "id": "8067dfca",
   "metadata": {},
   "outputs": [],
   "source": [
    "#Ques 10. What is difference between the list methods append() and insert()?\n",
    "Ans : Append will add the data at the end while with the help of insert we can insert the data \n",
    "    at our desired position/index.\n",
    "    E.g bacon = [3.14,'cat', 11, 'cat', True] \n",
    "    \n",
    "    bacon.insert(2,'dog')\n",
    "    [3.14, 'cat', 'dog', 11, 'cat', True]\n",
    "    \n",
    "    bacon.append('dog')\n",
    "    [3.14, 'cat', 11, 'cat', True, 'dog']\n",
    "    \n",
    "    "
   ]
  },
  {
   "cell_type": "code",
   "execution_count": null,
   "id": "fc1b917e",
   "metadata": {},
   "outputs": [],
   "source": [
    "#Ques 11. What are the two methods for removing items from a list?\n",
    "Ans Remove() and Del()\n",
    "e.g bacon = [3.14,'cat', 11, 'cat', True]\n",
    "\n",
    "bacon.remove('cat') => [3.14, 11, 'cat', True]\n",
    "\n",
    "del bacon[1] => [3.14, 11, 'cat', True]\n"
   ]
  },
  {
   "cell_type": "code",
   "execution_count": null,
   "id": "a0a72b99",
   "metadata": {},
   "outputs": [],
   "source": [
    "#Ques 12. Describe how list values and string values are identical.\n",
    "Ans using len() we can get the length of both.\n",
    "Concatenation is possible for both.\n",
    "both have indexes and slicing is possible."
   ]
  },
  {
   "cell_type": "code",
   "execution_count": null,
   "id": "b1c675e8",
   "metadata": {},
   "outputs": [],
   "source": [
    "#Ques 13. What's the difference between tuples and lists?\n",
    "Ans List are mutable while tuples are not.\n",
    "\n",
    "E.g of list is -\n",
    "bacon = [3.14,'cat', 11, 'cat', True]\n",
    "\n",
    "e.g of tuple\n",
    "bacon=(1,2,34,4)"
   ]
  },
  {
   "cell_type": "code",
   "execution_count": null,
   "id": "43043dc6",
   "metadata": {},
   "outputs": [],
   "source": [
    "#Ques 14. How do you type a tuple value that only contains the integer 42?\n",
    "Ans bacon(42,)"
   ]
  },
  {
   "cell_type": "code",
   "execution_count": 52,
   "id": "622868ef",
   "metadata": {},
   "outputs": [],
   "source": [
    "#Ques 15. How do you get a list value's tuple form? How do you get a tuple value's list form?\n",
    "Ans \n",
    "my_List = [12,4]\n",
    "my_List = tuple(my_List)\n",
    "my_List\n",
    "\n",
    "my_tuple = (2,12)\n",
    "my_tuple = list[my_tuple]\n",
    "my_tuple"
   ]
  },
  {
   "cell_type": "code",
   "execution_count": null,
   "id": "0aee142a",
   "metadata": {},
   "outputs": [],
   "source": [
    "#Ques 16. Variables that \"contain\" list values are not necessarily lists themselves. Instead, what do they contain?\n",
    "Ans They contain references to the list value."
   ]
  },
  {
   "cell_type": "code",
   "execution_count": null,
   "id": "0d9d0012",
   "metadata": {},
   "outputs": [],
   "source": [
    "#Ques 17. How do you distinguish between copy.copy() and copy.deepcopy()?\n",
    "Ans \n",
    "The copy.copy() function will do a shallow copy of a list, \n",
    "The copy.deepcopy() function will do a deep copy of a list. only copy.deepcopy() will duplicate \n",
    "any lists inside the list"
   ]
  }
 ],
 "metadata": {
  "kernelspec": {
   "display_name": "Python 3 (ipykernel)",
   "language": "python",
   "name": "python3"
  },
  "language_info": {
   "codemirror_mode": {
    "name": "ipython",
    "version": 3
   },
   "file_extension": ".py",
   "mimetype": "text/x-python",
   "name": "python",
   "nbconvert_exporter": "python",
   "pygments_lexer": "ipython3",
   "version": "3.9.7"
  }
 },
 "nbformat": 4,
 "nbformat_minor": 5
}
