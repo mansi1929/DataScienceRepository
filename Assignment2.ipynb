{
 "cells": [
  {
   "cell_type": "code",
   "execution_count": null,
   "id": "cd81a61e",
   "metadata": {},
   "outputs": [],
   "source": [
    "Q1.What are the two values of the Boolean data type? How do you write them?\n",
    "Answer- Two values of boolean data is true and false. \n",
    "e.g. a= (1>2) this will set data type for a to boolean and the value will be false since 1 is not greater than 2."
   ]
  },
  {
   "cell_type": "code",
   "execution_count": null,
   "id": "c13cce8e",
   "metadata": {},
   "outputs": [],
   "source": [
    "Q2. What are the three different types of Boolean operators?\n",
    "Ans - and , or , not "
   ]
  },
  {
   "cell_type": "code",
   "execution_count": null,
   "id": "f3125554",
   "metadata": {},
   "outputs": [],
   "source": [
    "Q3. Make a list of each Boolean operator's truth tables (i.e. every possible combination of Boolean\n",
    "values for the operator and what it evaluate ).\n",
    " => And  1 0 0\n",
    "         0 1 0\n",
    "         0 0 1\n",
    "         1 1 1\n",
    "        \n",
    "=> OR    0 1  1\n",
    "         0 0  0\n",
    "         1 0  1\n",
    "         1 1  1\n",
    "            \n",
    "=> Not   0  1\n",
    "         1  0\n",
    "    \n"
   ]
  },
  {
   "cell_type": "code",
   "execution_count": null,
   "id": "8b6b654c",
   "metadata": {},
   "outputs": [],
   "source": [
    "Q4. What are the values of the following expressions?\n",
    "(5 > 4) and (3 == 5) \n",
    "=> False\n",
    "\n",
    "not (5 > 4) \n",
    "=> False\n",
    "\n",
    "(5 > 4) or (3 == 5) \n",
    "=> True\n",
    "\n",
    "not ((5 > 4) or (3 == 5)) \n",
    "=> False\n",
    "\n",
    "(True and True) and (True == False)\n",
    "=>False\n",
    "\n",
    "(not False) or (not True)\n",
    "=> True"
   ]
  },
  {
   "cell_type": "code",
   "execution_count": null,
   "id": "3b876b83",
   "metadata": {},
   "outputs": [],
   "source": [
    "Q5. What are the six comparison operators?\n",
    "Ans\n",
    "\n",
    "== Equal to\n",
    "!= Not equal to\n",
    "<  Less than\n",
    ">  Greater than\n",
    "<= Less than or equal to\n",
    ">= Greater than or equal to"
   ]
  },
  {
   "cell_type": "code",
   "execution_count": null,
   "id": "10693ba6",
   "metadata": {},
   "outputs": [],
   "source": [
    "Q6. How do you tell the difference between the equal to and assignment operators?Describe a\n",
    "condition and when you would use one.\n",
    "\n",
    "Equal to operation is used to assign a value to the variable.\n",
    "e.g. if i want to assign a value as 10 to the variable i i would use\n",
    " i= 10.\n",
    "    Where as assignment operators are to compare the two values.\n",
    "e.g. If i want to compare values of  a and b(a=10 and b=20).\n",
    "like if(a==b) \n",
    "         print(\"hello\")\n",
    ": Whether a is equal to b if yes then i would like to print \"hello\""
   ]
  },
  {
   "cell_type": "code",
   "execution_count": null,
   "id": "030f09b3",
   "metadata": {},
   "outputs": [],
   "source": [
    "Q7. Identify the three blocks in this code:\n",
    "spam = 0\n",
    "if spam == 10:\n",
    "print('eggs')\n",
    "if spam > 5:\n",
    "print('bacon')\n",
    "else:\n",
    "print('ham')\n",
    "print('spam')\n",
    "print('spam')\n",
    "\n",
    "Ans => the three blocks are as follows:\n",
    "spam = 0\n",
    "if spam == 10:\n",
    "    print('eggs')\n",
    "if spam > 5:\n",
    "    print('bacon')\n",
    "else:\n",
    "    print('ham')\n",
    "    print('spam')\n",
    "    print('spam')"
   ]
  },
  {
   "cell_type": "code",
   "execution_count": null,
   "id": "460b4771",
   "metadata": {},
   "outputs": [],
   "source": [
    "8. Write code that prints Hello if 1 is stored in spam, prints Howdy if 2 is stored in spam, and prints\n",
    "Greetings! if anything else is stored in spam."
   ]
  },
  {
   "cell_type": "code",
   "execution_count": 18,
   "id": "04e9234f",
   "metadata": {},
   "outputs": [
    {
     "name": "stdout",
     "output_type": "stream",
     "text": [
      "333\n",
      "Greetings!\n"
     ]
    }
   ],
   "source": [
    " spam = input()\n",
    "if spam == '1':\n",
    "    print('Hello')\n",
    "elif spam == '2':\n",
    "    print('Howdy')\n",
    "else :\n",
    "    print('Greetings!')"
   ]
  },
  {
   "cell_type": "code",
   "execution_count": null,
   "id": "1768d97c",
   "metadata": {},
   "outputs": [],
   "source": [
    "Q9.If your programme is stuck in an endless loop, what keys you’ll press?\n",
    "Ans => Ctrl + C"
   ]
  },
  {
   "cell_type": "code",
   "execution_count": null,
   "id": "8aeb7f94",
   "metadata": {},
   "outputs": [],
   "source": [
    "Q10. How can you tell the difference between break and continue?\n",
    " break \n",
    "    Using break we can exit the loop.\n",
    "e.g.   \n",
    "a=[1,2,3,4,5]\n",
    "for number in a:\n",
    "    print(\"hello\"+ str(number))\n",
    "    break\n",
    "\n",
    "    this will print hello once.But if break statement is removed it will print this 5 times as a have 5 values.\n",
    "output\n",
    "hello1\n",
    "\n",
    "    \n",
    "Continue statement returns the control to the beginning of the loop.\n",
    "\n",
    "e.g.\n",
    "a=[1,2,3,4,5]\n",
    "for number in a:\n",
    "    print(\"hello\"+ str(number))\n",
    "    continue\n",
    "    \n",
    "    output \n",
    "hello1\n",
    "hello2\n",
    "hello3\n",
    "hello4\n",
    "hello5"
   ]
  },
  {
   "cell_type": "code",
   "execution_count": null,
   "id": "a85818c0",
   "metadata": {},
   "outputs": [],
   "source": [
    "Q11. In a for loop, what is the difference between range(10), range(0, 10), and range(0, 10, 1)?\n",
    "\n",
    "Ans\n",
    " range(10)=> it will take start as 0 and end as 10 and jump as 1\n",
    " range(0,10) => it will take start as 0 and 10 as end and jump as 1 \n",
    "range(0,10,1) =>  it will take start as 0 and 10 as end and jump as 1 "
   ]
  },
  {
   "cell_type": "code",
   "execution_count": null,
   "id": "cfb351fa",
   "metadata": {},
   "outputs": [],
   "source": [
    "Q12. Write a short program that prints the numbers 1 to 10 using a for loop. Then write an equivalent\n",
    "program that prints the numbers 1 to 10 using a while loop.\n",
    "\n",
    "Ans :\n",
    "    For loop\n",
    "for a in range(1,11):\n",
    "    print(a)\n",
    "\n",
    "    While loop\n",
    "i = 1\n",
    "while i < 11:\n",
    "    print(i)\n",
    "    i += 1"
   ]
  },
  {
   "cell_type": "code",
   "execution_count": null,
   "id": "060ab6be",
   "metadata": {},
   "outputs": [],
   "source": [
    "13. If you had a function named bacon() inside a module named spam, how would you call it after\n",
    "importing spam?\n",
    "\n",
    "Ans : \n",
    "    import spam\n",
    "    bacon()   "
   ]
  }
 ],
 "metadata": {
  "kernelspec": {
   "display_name": "Python 3 (ipykernel)",
   "language": "python",
   "name": "python3"
  },
  "language_info": {
   "codemirror_mode": {
    "name": "ipython",
    "version": 3
   },
   "file_extension": ".py",
   "mimetype": "text/x-python",
   "name": "python",
   "nbconvert_exporter": "python",
   "pygments_lexer": "ipython3",
   "version": "3.9.7"
  }
 },
 "nbformat": 4,
 "nbformat_minor": 5
}
