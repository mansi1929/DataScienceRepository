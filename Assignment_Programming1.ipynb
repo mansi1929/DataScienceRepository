{
 "cells": [
  {
   "cell_type": "code",
   "execution_count": 8,
   "id": "e4b1ab11",
   "metadata": {},
   "outputs": [
    {
     "name": "stdout",
     "output_type": "stream",
     "text": [
      "Hello Python\n"
     ]
    },
    {
     "data": {
      "text/plain": [
       "34"
      ]
     },
     "execution_count": 8,
     "metadata": {},
     "output_type": "execute_result"
    }
   ],
   "source": [
    "import logging\n",
    "import random\n",
    "\n",
    "logging.basicConfig(filename=\"My_Logs.log\", level=logging.DEBUG, format=\"%(levelname)s %(asctime)s %(message)s\")\n",
    "\n",
    "\n",
    "\n",
    "class Assignment1:\n",
    "    # 1. Write a Python program to print \"Hello Python\"?\n",
    "    def printhello(self):\n",
    "        print(\"Hello Python\")\n",
    "\n",
    "    # 2. Write a Python program to do arithmetical operations addition and division.?\n",
    "    def ArithmaticOperationsAdd(self, a, b):\n",
    "        logging.info(\"Add a and b result =\" + str(a + b))\n",
    "        sum = a + b\n",
    "        return(sum)\n",
    "\n",
    "    def ArithmaticOperationsDivide(self, a, b):\n",
    "        try:\n",
    "            logging.info(\"Divide a and b result =\" + str(a / b))\n",
    "            result = a/b\n",
    "            return(result)\n",
    "        except Exception as e:\n",
    "            logging.exception(\"Exception :- %s\", e)\n",
    "            logging.exception(e)\n",
    "\n",
    "    # 3. Write a Python program to find the area of a triangle?\n",
    "    def AreaTriangle(self, base, height):\n",
    "        try:\n",
    "            area = ((base * height) / 2)\n",
    "            logging.info(\"Area:\" + str(area))\n",
    "            return area\n",
    "        except Exception as e:\n",
    "            logging.exception(e)\n",
    "\n",
    "    # 4. Write a Python program to swap two variables\n",
    "    def swap_Variables(self, a, b):\n",
    "        logging.info(\"Initial Value of a=\" + str(a) + \"and value of b=\" + str(b))\n",
    "        c = a\n",
    "        a = b\n",
    "        b = c\n",
    "        logging.info(\"Swapped Value of a=\" + str(a) + \"and value of b=\" + str(b))\n",
    "        return a, b\n",
    "\n",
    "    # 5. Write a Python program to generate a random number?\n",
    "    def random_Number(self, a, b):\n",
    "        random_number = random.randint(a, b)\n",
    "        logging.info(\"random number is =\" + str(random_number))\n",
    "        return(random_number)\n",
    "\n",
    "obj = Assignment1()\n",
    "obj.printhello()\n",
    "obj.ArithmaticOperationsAdd(2, 3)\n",
    "obj.ArithmaticOperationsDivide(10, 10)\n",
    "obj.AreaTriangle(3, 2)\n",
    "obj.swap_Variables(1, 2)\n",
    "obj.random_Number(1, 50)\n"
   ]
  },
  {
   "cell_type": "code",
   "execution_count": null,
   "id": "901e1be5",
   "metadata": {},
   "outputs": [],
   "source": []
  },
  {
   "cell_type": "code",
   "execution_count": null,
   "id": "0121e299",
   "metadata": {},
   "outputs": [],
   "source": []
  }
 ],
 "metadata": {
  "kernelspec": {
   "display_name": "Python 3 (ipykernel)",
   "language": "python",
   "name": "python3"
  },
  "language_info": {
   "codemirror_mode": {
    "name": "ipython",
    "version": 3
   },
   "file_extension": ".py",
   "mimetype": "text/x-python",
   "name": "python",
   "nbconvert_exporter": "python",
   "pygments_lexer": "ipython3",
   "version": "3.9.7"
  }
 },
 "nbformat": 4,
 "nbformat_minor": 5
}
