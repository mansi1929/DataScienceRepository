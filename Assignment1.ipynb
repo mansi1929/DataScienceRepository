{
 "cells": [
  {
   "cell_type": "code",
   "execution_count": null,
   "id": "f45fb6b0",
   "metadata": {},
   "outputs": [],
   "source": [
    "Ques- 1. \n",
    "In the below elements which of them are values or an expression? eg:- values can be\n",
    "integer or string and expressions will be mathematical operators.\n",
    "*\n",
    "\n",
    "'hello' \n",
    "\n",
    "87.8\n",
    "-\n",
    "/\n",
    "+\n",
    "6\n",
    "\n",
    "Answer- Values-> 'hello' , 87.8 , 6\n",
    "Expression -> * , - , / ,+"
   ]
  },
  {
   "cell_type": "code",
   "execution_count": null,
   "id": "e8cd04f8",
   "metadata": {},
   "outputs": [],
   "source": [
    "Q2. What is the difference between string and variable?\n",
    "Answer -> Strings are basically enclosed in double quotes or single quotes.\n",
    "e.g. \"My name is mansi\" , \"Mansi\" \n",
    "On the other hand variables are basically objects which can have value assigned to them.\n",
    "E.g. var data = \"Hello\"\n",
    "here data is type of string as string value is assigned to it.\n",
    "E.g. var lst= [1,2,3,4,44]\n",
    "here lst is of type list as list is assigned to it."
   ]
  },
  {
   "cell_type": "code",
   "execution_count": null,
   "id": "b65c7f80",
   "metadata": {},
   "outputs": [],
   "source": [
    "Q3. Describe three different data types.\n",
    "Answer-> String will contain string values(values enclosed with single or double quotes) \n",
    "Example \n",
    "str a = \"I am good\"\n",
    "\n",
    "int contains integer value.\n",
    "Example\n",
    "int b = 23\n",
    "\n",
    "and float contains decimal values.\n",
    "Example \n",
    "float c= 34.5"
   ]
  },
  {
   "cell_type": "code",
   "execution_count": null,
   "id": "07663fb4",
   "metadata": {},
   "outputs": [],
   "source": [
    "Q4. What is an expression made up of? What do all expressions do?\n",
    "Ans-> Expression is made up of operators and operands.\n",
    "E.g. add = 10+20;\n",
    "Expression gives the single value."
   ]
  },
  {
   "cell_type": "code",
   "execution_count": null,
   "id": "56360162",
   "metadata": {},
   "outputs": [],
   "source": [
    "Q5. This assignment statements, like spam = 10. What is the difference between an\n",
    "expression and a statement?\n",
    "Ans-> Statement is someaction to be performed. Here in the question we can see that it is written assign spam \n",
    " value as 10.\n",
    "    whereas the expression needs an output out of it.\n",
    "    E.g. spam=10;\n",
    "    spam= spam+10;\n",
    "    "
   ]
  },
  {
   "cell_type": "code",
   "execution_count": 1,
   "id": "bdf72659",
   "metadata": {},
   "outputs": [
    {
     "data": {
      "text/plain": [
       "23"
      ]
     },
     "execution_count": 1,
     "metadata": {},
     "output_type": "execute_result"
    }
   ],
   "source": [
    "6. After running the following code, what does the variable bacon contain?\n",
    "bacon = 22\n",
    "bacon + 1\n",
    "Ans=> 23"
   ]
  },
  {
   "cell_type": "code",
   "execution_count": 4,
   "id": "b56af392",
   "metadata": {},
   "outputs": [
    {
     "name": "stdout",
     "output_type": "stream",
     "text": [
      "spamspamspam\n",
      "spamspamspam\n"
     ]
    }
   ],
   "source": [
    "7. What should the values of the following two terms be?\n",
    "a ='spam' + 'spamspam'\n",
    "print(a)\n",
    "b='spam' * 3\n",
    "print(b)\n",
    "output = spamspamspam\n",
    "         spamspamspam"
   ]
  },
  {
   "cell_type": "code",
   "execution_count": null,
   "id": "31310980",
   "metadata": {},
   "outputs": [],
   "source": [
    "Q8. Why is eggs a valid variable name while 100 is invalid?\n",
    "Ans -> Because in python we can have variable names either in alpha or in alphanumeric format or underscore.It cannot be a \n",
    "number."
   ]
  },
  {
   "cell_type": "code",
   "execution_count": null,
   "id": "6dccc269",
   "metadata": {},
   "outputs": [],
   "source": [
    "Q9. What three functions can be used to get the integer, floating-point number, or string\n",
    "version of a value?\n",
    "Ans-> int(),float(),str()"
   ]
  },
  {
   "cell_type": "code",
   "execution_count": 9,
   "id": "27d94e96",
   "metadata": {},
   "outputs": [
    {
     "name": "stdout",
     "output_type": "stream",
     "text": [
      "I have eaten 99 burritos\n"
     ]
    }
   ],
   "source": [
    "Q10. Why does this expression cause an error? How can you fix it?\n",
    "The + sign was enclosed in quotes that is why it was showing output as \n",
    "I have eaten+  99  +burritos\n",
    "\n",
    "We need to change integer 99 into string to concatenate it with the remaining string.\n",
    "So the correct solution for doing that is as follows:\n",
    "    \n",
    "a='I have eaten' '+  99  +' 'burritos';\n",
    "print(a)"
   ]
  }
 ],
 "metadata": {
  "kernelspec": {
   "display_name": "Python 3 (ipykernel)",
   "language": "python",
   "name": "python3"
  },
  "language_info": {
   "codemirror_mode": {
    "name": "ipython",
    "version": 3
   },
   "file_extension": ".py",
   "mimetype": "text/x-python",
   "name": "python",
   "nbconvert_exporter": "python",
   "pygments_lexer": "ipython3",
   "version": "3.9.7"
  }
 },
 "nbformat": 4,
 "nbformat_minor": 5
}
